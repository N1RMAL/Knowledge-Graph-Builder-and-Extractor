import pandas as pd
import openai
from langchain_community.graphs import Neo4jGraph
from IPython.display import display, Markdown
from google.colab import userdata
import re
import json

# Configure OpenAI using Google Colab secrets
try:
    # from openai import OpenAI
    # client = OpenAI(api_key=userdata.get('OPENAI_API_KEY'))
    openai.api_key = userdata.get('OPENAI_API_KEY')
    print("✅ OpenAI API configured successfully")
except Exception as e:
    print(f"❌ Error configuring OpenAI API: {e}")
    print("💡 Make sure you've added 'OPENAI_API_KEY' to your Colab secrets")

# Connect to Neo4j Aura using Google Colab secrets
try:
    neo4j_uri = userdata.get('NEO4J_URI')
    neo4j_user = userdata.get('NEO4J_USER')
    neo4j_password = userdata.get('NEO4J_PASSWORD')

    graph = Neo4jGraph(
        url=neo4j_uri,
        username=neo4j_user,
        password=neo4j_password
    )
    print("✅ Neo4j connection established successfully")
except Exception as e:
    print(f"❌ Error connecting to Neo4j: {e}")
    print("💡 Make sure you've added 'NEO4J_URI', 'NEO4J_USER', and 'NEO4J_PASSWORD' to your Colab secrets")

def get_openai_response(prompt):
    """
    Sends a prompt to the OpenAI API and gets a response.
    """
    try:
        # Using the ChatCompletion endpoint
        response = openai.chat.completions.create(
            model="gpt-4o", # Updated model to gpt-4o-mini
            messages=[
                {"role": "system", "content": "You are a helpful assistant that generates Neo4j Cypher queries."},
                {"role": "user", "content": prompt}
            ],
            temperature=0,
        )
        return response.choices[0].message.content
    except Exception as e:
        print(f"❌ OpenAI API call failed: {e}")
        raise

def validate_cypher_query(cypher_query):
    """
    Validate and clean the Cypher query for safety and correctness
    """
    destructive_patterns = [
        r'\bDROP\b', r'\bDELETE\b', r'\bCREATE\b', r'\bSET\b',
        r'\bREMOVE\b', r'\bMERGE\b', r'\bDETACH\s+DELETE\b'
    ]

    for pattern in destructive_patterns:
        if re.search(pattern, cypher_query, re.IGNORECASE):
            raise ValueError(f"Blocked potentially destructive operation: {pattern}")

    # Clean up common formatting issues
    cypher_query = cypher_query.strip()
    if not cypher_query.endswith(';'):
        cypher_query += ';'

    return cypher_query

def extract_cypher_from_response(response_text):
    """
    Extract Cypher query from LLM response with multiple fallback methods
    """
    # Try to find code block with cypher language specification
    cypher_pattern = r'```(?:cypher|neo4j)?\s*(.*?)```'
    matches = re.findall(cypher_pattern, response_text, re.DOTALL | re.IGNORECASE)

    if matches:
        return matches[0].strip()

    # Fallback: look for MATCH statements
    match_pattern = r'(MATCH.*?(?:RETURN|;|\n\n|\Z))'
    matches = re.findall(match_pattern, response_text, re.DOTALL | re.IGNORECASE)

    if matches:
        return matches[0].strip()

    # Last resort: return the whole response if it looks like Cypher
    if any(keyword in response_text.upper() for keyword in ['MATCH', 'RETURN', 'WHERE', 'WITH']):
        return response_text.strip()

    raise ValueError("Could not extract valid Cypher query from response")

def improve_cypher_with_context(original_cypher, error_message, schema):
    """
    Use LLM to improve/fix Cypher query based on error feedback
    """
    improvement_prompt = f"""
    You are a Neo4j Cypher expert. The following query failed with an error. Please fix it.

    Original Query:
    ```cypher
    {original_cypher}
    ```

    Error Message:
    {error_message}

    Available Schema:
    {schema}

    Rules:
    1. Only use nodes, relationships, and properties that exist in the schema
    2. Use proper Cypher syntax
    3. Return only the corrected Cypher query in a code block
    4. Make sure property names and node labels match exactly what's in the schema
    5. Use appropriate aggregation functions when needed
    """

    try:
        response_text = get_openai_response(improvement_prompt)
        improved_cypher = extract_cypher_from_response(response_text)
        return validate_cypher_query(improved_cypher)
    except Exception as e:
        print(f"⚠️ Could not improve query: {e}")
        return None

def generate_enhanced_cypher(question, schema, previous_attempts=None):
    """
    Generate Cypher query with enhanced reasoning and context awareness
    """
    base_prompt = f"""
    You are an expert Neo4j Cypher developer with deep understanding of graph databases.

    Your task: Convert this natural language question into a precise Neo4j Cypher query.

    Question: "{question}"

    Available Schema:
    {schema}

    CRITICAL REQUIREMENTS:
    1. Use ONLY nodes, relationships, and properties that exist in the provided schema
    2. Match property names and node labels EXACTLY as shown in the schema
    3. Use appropriate WHERE clauses for filtering
    4. Use LIMIT when results might be large (default LIMIT 20 unless user specifies otherwise)
    5. Use proper aggregation functions (COUNT, SUM, AVG, etc.) when appropriate
    6. Return results in a meaningful order using ORDER BY when relevant
    7. Use CASE-INSENSITIVE comparisons with toLower() for text searches
    8. Handle potential null values appropriately

    COMMON PATTERNS:
    - For "find/show/get": Use MATCH ... RETURN
    - For "how many/count": Use MATCH ... RETURN COUNT(*)
    - For "average/mean": Use MATCH ... RETURN AVG()
    - For "highest/lowest": Use ORDER BY ... DESC/ASC LIMIT 1
    - For text searches: Use WHERE toLower(property) CONTAINS toLower("search_term")

    Return ONLY the Cypher query in a code block marked with ```cypher
    """

    if previous_attempts:
        base_prompt += f"\n\nPrevious failed attempts:\n{previous_attempts}\nPlease try a different approach."

    try:
        response_text = get_openai_response(base_prompt)
        cypher = extract_cypher_from_response(response_text)
        return validate_cypher_query(cypher)
    except Exception as e:
        raise ValueError(f"Failed to generate valid Cypher query: {e}")

def provide_intelligent_answer(question, results_df, cypher_query):
    """
    Generate intelligent, context-aware answers from query results
    """
    if results_df.empty:
        return "No results were found for your query. This could mean:\n- The data you're looking for doesn't exist in the database\n- The search criteria might be too specific\n- There might be a slight mismatch in the query logic"

    # Analyze the data structure to provide better context
    num_results = len(results_df)
    columns = list(results_df.columns)

    reasoning_prompt = f"""
    You are an expert data analyst providing insights based on database query results.

    Original Question: "{question}"

    Query Executed:
    ```cypher
    {cypher_query}
    ```

    Results Data (first 50 rows):
    {results_df.to_string(max_rows=50)}

    Analysis Context:
    - Number of results: {num_results}
    - Data columns: {columns}

    INSTRUCTIONS:
    1. Provide a clear, direct answer to the user's question
    2. Include specific numbers, names, and values from the data
    3. Highlight key insights or patterns you notice
    4. If the data is extensive, summarize the most important findings
    5. Use natural language that's easy to understand
    6. If there are interesting relationships or trends, mention them
    7. Be factual and base your response ONLY on the provided data

    Format your response as a clear, informative answer that directly addresses the user's question.
    """

    try:
        ai_answer = get_openai_response(reasoning_prompt)
        return ai_answer
    except Exception as e:
        return f"Retrieved {num_results} results, but couldn't generate detailed analysis. Error: {e}"

def query_neo4j_with_reasoning():
    """
    Enhanced interactive natural language to Cypher query tool
    with improved reasoning, error handling, and query optimization
    """
    print("🔵 Enhanced Neo4j Query Tool | Model: OpenAI GPT-4o-mini")
    print("💡 This tool generates optimized Cypher queries and provides intelligent analysis")
    print("💡 Features: Error recovery, query improvement, context-aware responses")
    print("\n📋 Example questions:")
    print("   - Show me the top 5 authors with the highest royalty rates")
    print("   - Which agents represent science fiction authors?")
    print("   - Find authors from the UK who have written more than 3 books")
    print("   - What's the average book price by genre?")
    print("   - Count how many books were published each year")

    # Get and display schema
    try:
        schema = graph.get_schema
        print(f"\n📊 Database schema loaded successfully")
    except Exception as e:
        print(f"⚠️ Warning: Could not load schema: {e}")
        schema = "Schema not available"

    while True:
        # Get user input
        question = input("\n🌐 Ask a question about your data (or 'quit'): ").strip()
        if question.lower() in ['exit', 'quit', 'q']:
            print("👋 Exiting tool.")
            break

        if not question:
            continue

        max_attempts = 3
        attempt = 1
        previous_attempts = []

        while attempt <= max_attempts:
            try:
                # === Step 1: Generate Enhanced Cypher ===
                display(Markdown(f"### 📝 Question: *{question}*"))

                if attempt == 1:
                    print("🔧 Generating optimized Cypher query...")
                else:
                    print(f"🔄 Attempt {attempt}: Improving query based on previous errors...")

                cypher = generate_enhanced_cypher(question, schema,
                                                  "\n".join(previous_attempts) if previous_attempts else None)

                display(Markdown(f"#### Generated Cypher Query (Attempt {attempt}):"))
                display(Markdown(f"```cypher\n{cypher}\n```"))

                # === Step 2: Execute the Query ===
                print("⚙️ Executing query...")
                results = graph.query(cypher)

                # === Step 3: Success! Process Results ===
                print("✅ Query executed successfully!")

                if results:
                    print("🧠 Analyzing results and generating insights...")
                    df = pd.DataFrame(results)

                    # Generate intelligent response
                    ai_answer = provide_intelligent_answer(question, df, cypher)

                    # Display results
                    display(Markdown("### 🤖 AI Analysis & Answer"))
                    display(Markdown(ai_answer))

                    display(Markdown("### 📊 Raw Data Results"))
                    display(df)

                    # Show summary stats for large datasets
                    if len(df) > 10:
                        display(Markdown(f"*Showing {len(df)} total results*"))

                else:
                    ai_answer = provide_intelligent_answer(question, pd.DataFrame(), cypher)
                    display(Markdown("### 🤖 AI Analysis & Answer"))
                    display(Markdown(ai_answer))

                break  # Success, exit retry loop

            except Exception as e:
                error_msg = str(e)
                print(f"❌ Attempt {attempt} failed: {error_msg}")

                if attempt < max_attempts:
                    # Try to improve the query
                    if 'cypher' in locals():
                        previous_attempts.append(f"Attempt {attempt}: {cypher} (Error: {error_msg})")
                        try:
                            improved_cypher = improve_cypher_with_context(cypher, error_msg, schema)
                            if improved_cypher:
                                cypher = improved_cypher
                            attempt += 1
                            continue
                        except Exception as improvement_error:
                            print(f"⚠️ Failed to get an improved query: {improvement_error}")
                            # Fall through to final failure message
                    else: # Generation failed before query execution
                        print("⚠️ Could not generate an initial query to improve.")
                        break # Exit retry loop if we can't even generate a first query


                # Final failure
                display(Markdown(f"❌ **Could not execute query after {attempt} attempts**"))
                display(Markdown(f"**Final error:** {error_msg}"))
                if 'cypher' in locals():
                    display(Markdown(f"**Last attempted query:**\n```cypher\n{cypher}\n```"))
                display(Markdown("💡 **Suggestions:**\n- Try rephrasing your question\n- Be more specific about what you're looking for\n- Check if the data you're asking about exists in the database"))
                break

            attempt += 1

# Instructions for setting up Colab secrets
print("📋 SETUP INSTRUCTIONS:")
print("1. In Google Colab, click on the 🔑 key icon in the left sidebar")
print("2. Add these secrets:")
print("   - OPENAI_API_KEY: Your OpenAI API key")
print("   - NEO4J_URI: Your Neo4j database URI (e.g., neo4j+s://xxx.databases.neo4j.io)")
print("   - NEO4J_USER: Your Neo4j username")
print("   - NEO4J_PASSWORD: Your Neo4j password")
print("3. Make sure to enable 'Notebook access' for each secret")
print("\n🚀 Ready to run! Execute the function call below.")

# Uncomment the line below to run the tool immediately
# query_neo4j_with_reasoning()
